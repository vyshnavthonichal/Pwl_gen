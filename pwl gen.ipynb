{
 "cells": [
  {
   "cell_type": "code",
   "execution_count": null,
   "metadata": {},
   "outputs": [],
   "source": [
    "import numpy as np\n",
    "import matplotlib.pyplot as plt\n",
    "\n",
    "def generate_pwl_signal(start=0, stop=1000, step=50, amplitudes=None):\n",
    "    if amplitudes is None:\n",
    "        amplitudes = [0, 1]  # Default amplitudes if none provided\n",
    "\n",
    "    # Generate time points\n",
    "    time_points = np.arange(start, stop + step, step)\n",
    "    \n",
    "    # Ensure the number of amplitude points matches the number of segments\n",
    "    if len(amplitudes) != len(time_points) // 2:\n",
    "        raise ValueError(\"Length of amplitudes should be half the number of time points.\")\n",
    "\n",
    "    # Generate the signal values based on provided amplitudes\n",
    "    signal = []\n",
    "    for i in range(len(amplitudes)):\n",
    "        signal.append(amplitudes[i])\n",
    "        signal.append(amplitudes[i])\n",
    "    \n",
    "    signal = np.array(signal)\n",
    "\n",
    "    return time_points, signal\n",
    "\n",
    "def plot_pwl_signal(time_points, signal):\n",
    "    plt.figure(figsize=(10, 5))\n",
    "    plt.plot(time_points, signal, drawstyle='steps-post')\n",
    "    plt.xlabel('Time (u)')\n",
    "    plt.ylabel('Amplitude (v)')\n",
    "    plt.title('Piecewise Linear (PWL) Signal')\n",
    "    plt.grid(True)\n",
    "    plt.show()\n",
    "\n",
    "# Customizable parameters\n",
    "start = 0\n",
    "stop = 849\n",
    "step = 50\n",
    "amplitudes = [0, 1, 0, 1, 0, 1, 0, 1, 0, 1, 0, 1, 0, 1, 0, 1, 0]  # Custom amplitudes\n",
    "\n",
    "# Generate the PWL signal\n",
    "time_points, signal = generate_pwl_signal(start, stop, step, amplitudes)\n",
    "\n",
    "# Plot the PWL signal\n",
    "plot_pwl_signal(time_points, signal)\n"
   ]
  }
 ],
 "metadata": {
  "language_info": {
   "name": "python"
  }
 },
 "nbformat": 4,
 "nbformat_minor": 2
}
